{
  "nbformat": 4,
  "nbformat_minor": 0,
  "metadata": {
    "colab": {
      "provenance": [],
      "authorship_tag": "ABX9TyNazB1x7EqJ2A3J0EvUERGc",
      "include_colab_link": true
    },
    "kernelspec": {
      "name": "python3",
      "display_name": "Python 3"
    },
    "language_info": {
      "name": "python"
    }
  },
  "cells": [
    {
      "cell_type": "markdown",
      "metadata": {
        "id": "view-in-github",
        "colab_type": "text"
      },
      "source": [
        "<a href=\"https://colab.research.google.com/github/surabhipandey18/Probability-Distribution/blob/main/Distribution.ipynb\" target=\"_parent\"><img src=\"https://colab.research.google.com/assets/colab-badge.svg\" alt=\"Open In Colab\"/></a>"
      ]
    },
    {
      "cell_type": "code",
      "source": [
        "import numpy as np\n",
        "import matplotlib.pyplot as plt\n",
        "import math\n",
        "import scipy.stats as stats\n",
        "from scipy.special import factorial"
      ],
      "metadata": {
        "id": "IN6bdYHqIkaq"
      },
      "execution_count": 34,
      "outputs": []
    },
    {
      "cell_type": "markdown",
      "source": [
        "# **Random Variables**\n",
        "There are two types of Random variables. Discrete and Continuous.\n",
        "They have different types of distributions.\n",
        "\n",
        "###**Discrete Random Variables have distributions**:\n",
        "\n",
        "\n",
        "1.   Bernoulli distribution (When one trial takes place, parameters = 1 = probability of success) -- f(x; p)\n",
        "2.   Binomial distribution (When more than one trials take place, parameters = 2 = number of trials and probability of success) -- f(x; n,p)\n",
        "3.   Negative Binomial distribution (It is just like binomial, but here the number of times the failure took place is considered before the number of trials,  parameters = 2 = number of trials and probability of success) -- f(x; n,p)\n",
        "4.   Poisson distribution (Events happening certain number of times. Parameter = 1 = Mean number of times) -- f(x: λ)\n",
        "\n",
        "### **Continuous Random Variables have distributions**:\n",
        "\n",
        "1. Uniform distribution (Distribution taking place in a defined range, b to c) -- f(x) = 1/c-b\n",
        "2. Normal/Gaussian distribution (Bell curved graph symmetric about the mean, parameters = 2 = mean and variance) -- f(x; μ, σ)\n",
        "3. Exponential distribution (When events happen continuously and independently at a contant average rate, parameter = 1 = average rate.) -- f(x; λ)\n",
        "\n",
        "There are some statistical measures related to these distributions, their expectations E(X), variance V(X)/ sigma^2 and standard deviation sqroot(Var(X)) / σ , which tells a lot about these distributions and are taken into consideration in statistical studies.\n",
        "\n",
        "\n",
        "\n"
      ],
      "metadata": {
        "id": "XJoD4nJ5Ltyk"
      }
    },
    {
      "cell_type": "code",
      "source": [
        "x = input(\"What type of Random Variable is it? Discrete or Continuous?: \")\n",
        "lamb = input(\"Enter the Average/Mean/Rate Parameter value (Write NA if not applicable): \")"
      ],
      "metadata": {
        "id": "3uh6ho2KIo-x"
      },
      "execution_count": null,
      "outputs": []
    },
    {
      "cell_type": "code",
      "execution_count": null,
      "metadata": {
        "id": "Ey58gGqX4T5i"
      },
      "outputs": [],
      "source": [
        "if x == 'Discrete':\n",
        "    n = int(input(\"Enter the number of trials: \"))\n",
        "    if n == 1 and lamb == 'NA':\n",
        "        print(\"You have a Bernoulli Distribution\")\n",
        "        print(\"The PMF is given by P(X = k) = p^k * (1-p)^(1-k) for k = 0, 1\")\n",
        "        p = float(input(\"Enter the probability of success (p): \"))\n",
        "        k = np.array([0, 1])\n",
        "        pmf = p**k * (1-p)**(1-k)\n",
        "        print(\"The PMF values are:\", pmf)\n",
        "        print(\"The Expected Value (E[X]) is:\", p)\n",
        "        print(\"The Variance (Var[X]) is:\", p * (1 - p))\n",
        "        print(\"The Standard Deviation (SD[X]) is:\", np.sqrt(p * (1 - p)))\n",
        "        plt.bar(k, pmf, color = 'red')\n",
        "        plt.xlabel('k')\n",
        "        plt.ylabel('P(X = k)')\n",
        "        plt.title('Bernoulli Distribution PMF')\n",
        "        plt.xticks(k)\n",
        "        plt.show()\n",
        "    elif n > 1 and lamb == 'NA':\n",
        "        z = input(\"Successes given first? yes or no: \")\n",
        "        if z == 'yes':\n",
        "            print(\"You have a Binomial Distribution\")\n",
        "            print(\"The PMF is given by P(X = k) = (n Combination k) * p^k * (1-p)^(n-k) for k = 0, 1, ..., n\")\n",
        "            p = float(input(\"Enter the probability of success (p): \"))\n",
        "            k = np.arange(0, n + 1)\n",
        "            pmf = (factorial(n) / (factorial(k) * factorial(n - k))) * (p**k) * ((1 - p)**(n - k))\n",
        "            print(\"The PMF values are:\", pmf)\n",
        "            print(\"The Expected Value (E[X]) is:\", n * p)\n",
        "            print(\"The Variance (Var[X]) is:\", n * p * (1 - p))\n",
        "            print(\"The Standard Deviation (SD[X]) is:\", np.sqrt(n * p * (1 - p)))\n",
        "            plt.bar(k, pmf, color = 'red')\n",
        "            plt.xlabel('k')\n",
        "            plt.ylabel('P(X = k)')\n",
        "            plt.title('Binomial Distribution PMF')\n",
        "            plt.xticks(k)\n",
        "            plt.show()\n",
        "        elif z == 'no':\n",
        "            print(\"You have a Negative Binomial Distribution\")\n",
        "            print(\"The PMF is given by P(X = k) = (k-1 Combination r-1) * p^r * (1-p)^(k-r) for k = r, r+1, ...\")\n",
        "            n = int(input(\"Enter the number of trials (n): \"))\n",
        "            r = int(input(\"Enter the number of successes required: \"))\n",
        "            p = float(input(\"Enter the probability of success (p): \"))\n",
        "            max_k = int(a * 3) + 5\n",
        "            k = np.arange(r, max_k + 1)\n",
        "            pmf = (factorial(k - 1) / (factorial(r - 1) * factorial(k - r))) * (p**r) * ((1 - p)**(k - r))\n",
        "            print(\"The PMF values are:\", pmf)\n",
        "            print(\"The Expected Value (E[X]) is:\", r / p)\n",
        "            print(\"The Variance (Var[X]) is:\", r * (1 - p) / (p**2))\n",
        "            print(\"The Standard Deviation (SD[X]) is:\", np.sqrt(r * (1 - p) / (p**2)))\n",
        "            plt.bar(k, pmf, color = 'red')\n",
        "            plt.xlabel('k')\n",
        "            plt.ylabel('P(X = k)')\n",
        "            plt.title('Negative Binomial Distribution PMF')\n",
        "            plt.xticks(k)\n",
        "            plt.show()\n",
        "    elif (n == 1 or n != 1) and lamb != 'NA':\n",
        "        print(\"You have a Poisson Distribution\")\n",
        "        print(\"The PMF is given by P(X = k) = (lambda^k * e^(-lambda)) / k! for k = 0, 1, 2, ... which is number of trials\")\n",
        "        print(\"Where lambda is the average rate of occurrence.\")\n",
        "        print(\"In this case, lambda is the average value you provided.\")\n",
        "        lam = int(lamb * 3) + 5\n",
        "        k = np.arange(0, lam + 1)\n",
        "        pmf = (lam**k * np.exp(-lam)) / factorial(k)\n",
        "        print(\"The PMF values are:\", pmf)\n",
        "        print(\"The Expected Value (E[X]) is:\", lam)\n",
        "        print(\"The Variance (Var[X]) is:\", lam)\n",
        "        print(\"The Standard Deviation (SD[X]) is:\", np.sqrt(lam))\n",
        "        plt.plot(k, pmf, color = 'red')\n",
        "        plt.xlabel('k')\n",
        "        plt.ylabel('P(X = k)')\n",
        "        plt.title('Poisson Distribution PMF')\n",
        "        plt.show()\n",
        "elif x == 'Continuous':\n",
        "    sigma = input(\"Enter the std. dev. value (sigma) (Write NA if not applicable): \")\n",
        "    if lamb == 'NA' and sigma == 'NA':\n",
        "        print(\"You have a Uniform Distribution\")\n",
        "        print(\"The PDF is given by f(x) = 1 / (b - c) for c <= x <= b\")\n",
        "        print(\"Where b is the upper limit and c is the lower limit.\")\n",
        "        b = float(input(\"Enter the upper limit (b): \"))\n",
        "        c = float(input(\"Enter the lower limit (c): \"))\n",
        "        x = np.linspace(c, b, 100)\n",
        "        pdf = np.ones_like(x) / (b - c)\n",
        "        print(\"The PDF values are:\", pdf)\n",
        "        print(\"The Expected Value (E[X]) is:\", (b + c) / 2)\n",
        "        print(\"The Variance (Var[X]) is:\", ((b - c)**2) / 12)\n",
        "        print(\"The Standard Deviation (SD[X]) is:\", np.sqrt(((b - c)**2) / 12))\n",
        "        plt.plot(x, pdf, color = 'red')\n",
        "        plt.xlabel('x')\n",
        "        plt.ylabel('f(x)')\n",
        "        plt.title('Uniform Distribution PDF')\n",
        "        plt.show()\n",
        "    elif lamb != 'NA' and sigma != 'NA':\n",
        "        import math\n",
        "        print(\"You have a Normal Distribution\")\n",
        "        print(\"The PDF is given by f(x) = (1 / (sigma * sqrt(2 * pi))) * exp(-0.5 * ((x - mu) / sigma)^2)\")\n",
        "        print(\"Where mu is the mean and sigma is the standard deviation.\")\n",
        "        print(\"In this case, mu is the average value you provided.\")\n",
        "        mu = float(lamb)\n",
        "        sigma = float(sigma)\n",
        "        x = np.linspace(mu - 4 * sigma, mu + 4 * sigma, 1000)\n",
        "        pdf = (1 / (sigma * np.sqrt(2 * np.pi))) * np.exp(-0.5 * ((x - mu) / sigma ** 2))\n",
        "        print(\"The PDF values are:\", pdf)\n",
        "        print(\"The Expected Value (E[X]) is:\", mu)\n",
        "        print(\"The Variance (Var[X]) is:\", sigma ** 2)\n",
        "        print(\"The Standard Deviation (SD[X]) is:\", sigma)\n",
        "        plt.plot(x, pdf, color = 'red')\n",
        "        plt.xlabel('x')\n",
        "        plt.ylabel('f(x)')\n",
        "        plt.title('Normal Distribution PDF')\n",
        "        plt.show()\n",
        "    elif lamb != 'NA' and sigma == 'NA':\n",
        "        print(\"You have an Exponential Distribution\")\n",
        "        print(\"The PDF is given by f(x) = lambda * exp(-lambda * x) for x >= 0\")\n",
        "        print(\"Where lambda is the rate parameter.\")\n",
        "        lam = float(lamb)\n",
        "        x = np.linspace(0, 5 / lam, 100)\n",
        "        pdf = lam * np.exp(-lam * x)\n",
        "        print(\"The PDF values are:\", pdf)\n",
        "        print(\"The Expected Value (E[X]) is:\", 1 / lam)\n",
        "        print(\"The Variance (Var[X]) is:\", 1 / (lam**2))\n",
        "        print(\"The Standard Deviation (SD[X]) is:\", np.sqrt(1 / (lam**2)))\n",
        "        plt.plot(x, pdf, color = 'red')\n",
        "        plt.xlabel('x')\n",
        "        plt.ylabel('f(x)')\n",
        "        plt.title('Exponential Distribution PDF')\n",
        "        plt.show()\n",
        "else:\n",
        "    print(\"Invalid input. Please enter 'Discrete' or 'Continuous'.\")\n",
        "    print(\"Invalid input. Enter NA if no Mean or Average value is given.\")\n"
      ]
    },
    {
      "cell_type": "code",
      "source": [],
      "metadata": {
        "id": "XFEUrhxo6_RC"
      },
      "execution_count": null,
      "outputs": []
    }
  ]
}